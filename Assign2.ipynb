{
    "cells": [
        {
            "cell_type": "markdown",
            "metadata": {
                "collapsed": true
            },
            "source": "# Introduction/ Business Problem"
        },
        {
            "cell_type": "markdown",
            "metadata": {},
            "source": "A restaurant's location is one the most important factors for its success. So, it is critical to find the best location for opening restaurant.\n\nThere is the task to establish a Chinese restaurant in a Toronto neighborhood. So the questions is - which neighborhood will be the optimal?"
        },
        {
            "cell_type": "markdown",
            "metadata": {},
            "source": "# Data"
        },
        {
            "cell_type": "markdown",
            "metadata": {},
            "source": "Following data will be used for assessment of each neighborhood:\n\n1. Neighbourhood names, alongside their corresponding boroughs and postal codes, scraped from Wikipedia: (https://en.wikipedia.org/w/index.php?title=List_of_postal_codes_of_Canada:_M). We will obtain the list of neighborhoods of Toronto.\n2. Geographical coordinates of each neighbourhood: (https://cocl.us/Geospatial_data).\n3. The Foursquare API will be used to explore neighborhood venues in Toronto. We will check presence of Chinese restaurants in each neighborhood to check possible competition.\n4. The Toronto's census data for its social demographic characteristics will be distilled from Toronto's Neighborhood Profile (https://bit.ly/3airrOJ). We will obtain spending power and distribution of ethnic groups."
        }
    ],
    "metadata": {
        "kernelspec": {
            "display_name": "Python 3.7",
            "language": "python",
            "name": "python3"
        },
        "language_info": {
            "codemirror_mode": {
                "name": "ipython",
                "version": 3
            },
            "file_extension": ".py",
            "mimetype": "text/x-python",
            "name": "python",
            "nbconvert_exporter": "python",
            "pygments_lexer": "ipython3",
            "version": "3.7.10"
        }
    },
    "nbformat": 4,
    "nbformat_minor": 1
}